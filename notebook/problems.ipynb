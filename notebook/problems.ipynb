{
    "cells": [
        {
            "cell_type": "markdown",
            "id": "ac622319",
            "metadata": {},
            "source": [
                "# Descriptive statistics problems"
            ]
        },
        {
            "cell_type": "markdown",
            "id": "5e0ab0d5",
            "metadata": {},
            "source": [
                "### Exercise 1\n",
                "\n",
                "We will use NumPy to obtain information to describe statistically.\n",
                "\n",
                "- Generate an array of 100 elements following a normal distribution.\n",
                "- Generate an array of 100 elements following a chi-square distribution with 3 degrees of freedom.\n",
                "- Calculate the main metrics and statistical measures that best describe the two vectors."
            ]
        },
        {
            "cell_type": "code",
            "execution_count": 1,
            "id": "34720ab6",
            "metadata": {},
            "outputs": [
                {
                    "name": "stdout",
                    "output_type": "stream",
                    "text": [
                        "Normal Distribution Metrics \n",
                        " Mean:-0.10384651739409384\n",
                        " Median:-0.1269562917797126 \n",
                        " Mode:0.4967141530112327 \n",
                        " Range:4.472023288598682 \n",
                        " Varaiance:0.8165221946938584 \n",
                        " Std:0.9081684280078007 \n",
                        " Skew:-0.17526772024433726 \n",
                        " Kurtosis:-0.1554047077420817\n",
                        "Chi Distribution Metrics \n",
                        " Mean:2.9380795335328225 \n",
                        " Median:2.4636148965577283 \n",
                        " Mode:0.4168513022813494 \n",
                        " Range:12.592089274962756 \n",
                        " Varaiance:5.817002940415181 \n",
                        " Std:2.4239968122656266 \n",
                        " Skew:1.6683703423622345 \n",
                        " Kurtosis:3.620577909892315\n"
                    ]
                }
            ],
            "source": [
                "import numpy as np\n",
                "import statistics as stats\n",
                "import scipy.stats\n",
                "from scipy.stats import skew, kurtosis\n",
                "\n",
                "\n",
                "np.random.seed(42)\n",
                "\n",
                "normal = np.random.normal(size = 100)\n",
                "chi = np.random.chisquare(3, 100)\n",
                "\n",
                "normal_mean = np.mean(normal)\n",
                "chi_mean = np.mean(chi)\n",
                "\n",
                "normal_median = np.median(normal)\n",
                "chi_median = np.median(chi)\n",
                "\n",
                "normal_mode = stats.mode(normal)\n",
                "chi_mode = stats.mode(chi)\n",
                "\n",
                "normal_range = np.ptp(normal)\n",
                "chi_range = np.ptp(chi)\n",
                "\n",
                "normal_stdev = stats.stdev(normal)\n",
                "chi_stdev = stats.stdev(chi)\n",
                "\n",
                "normal_skew = skew(normal)\n",
                "chi_skew = skew(chi)\n",
                "\n",
                "normal_kurtosis = kurtosis(normal)\n",
                "chi_kurtosis = kurtosis(chi)\n",
                "\n",
                "normal_variance = np.var(normal)\n",
                "chi_variance = np.var(chi)  \n",
                "\n",
                "print (f'Normal Distribution Metrics \\n Mean:{normal_mean}\\n Median:{normal_median} \\n Mode:{normal_mode} \\n Range:{normal_range} \\n Varaiance:{normal_variance} \\n Std:{normal_stdev} \\n Skew:{normal_skew} \\n Kurtosis:{normal_kurtosis}')\n",
                "print (f'Chi Distribution Metrics \\n Mean:{chi_mean} \\n Median:{chi_median} \\n Mode:{chi_mode} \\n Range:{chi_range} \\n Varaiance:{chi_variance} \\n Std:{chi_stdev} \\n Skew:{chi_skew} \\n Kurtosis:{chi_kurtosis}')\n",
                "\n",
                "\n",
                "\n",
                "\n",
                "\n",
                "\n",
                "\n",
                "\n",
                "\n",
                "\n",
                "\n",
                "\n"
            ]
        },
        {
            "cell_type": "markdown",
            "id": "46c70c3d",
            "metadata": {},
            "source": [
                "### Exercise 2\n",
                "\n",
                "Write a Python program to calculate the standard deviation of the following data:\n",
                "\n",
                "```py\n",
                "data = [4, 2, 5, 8, 6]\n",
                "```"
            ]
        },
        {
            "cell_type": "code",
            "execution_count": 3,
            "id": "d590308e",
            "metadata": {},
            "outputs": [
                {
                    "name": "stdout",
                    "output_type": "stream",
                    "text": [
                        "Standard Deviation: 2.0\n"
                    ]
                }
            ],
            "source": [
                "data = [4, 2, 5, 8, 6]\n",
                "mean = sum(data) / len(data)\n",
                "deviations = [x - mean for x in data]\n",
                "squared_deviations = [x**2 for x in deviations]\n",
                "mean_squared_deviations = sum(squared_deviations) / len(deviations)\n",
                "standard_dev = mean_squared_deviations**0.5\n",
                "print(\"Standard Deviation:\", standard_dev)\n"
            ]
        }
    ],
    "metadata": {
        "kernelspec": {
            "display_name": "Python 3",
            "language": "python",
            "name": "python3"
        },
        "language_info": {
            "codemirror_mode": {
                "name": "ipython",
                "version": 3
            },
            "file_extension": ".py",
            "mimetype": "text/x-python",
            "name": "python",
            "nbconvert_exporter": "python",
            "pygments_lexer": "ipython3",
            "version": "3.11.4"
        }
    },
    "nbformat": 4,
    "nbformat_minor": 5
}
